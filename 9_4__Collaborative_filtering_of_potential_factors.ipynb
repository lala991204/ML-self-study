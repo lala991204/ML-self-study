{
  "nbformat": 4,
  "nbformat_minor": 0,
  "metadata": {
    "colab": {
      "name": "9.4_ Collaborative filtering of potential factors.ipynb",
      "provenance": [],
      "authorship_tag": "ABX9TyNpzygZezYT9Hg7uiqExbuJ",
      "include_colab_link": true
    },
    "kernelspec": {
      "name": "python3",
      "display_name": "Python 3"
    },
    "language_info": {
      "name": "python"
    }
  },
  "cells": [
    {
      "cell_type": "markdown",
      "metadata": {
        "id": "view-in-github",
        "colab_type": "text"
      },
      "source": [
        "<a href=\"https://colab.research.google.com/github/lala991204/ML-self-study/blob/master/9_4__Collaborative_filtering_of_potential_factors.ipynb\" target=\"_parent\"><img src=\"https://colab.research.google.com/assets/colab-badge.svg\" alt=\"Open In Colab\"/></a>"
      ]
    },
    {
      "cell_type": "markdown",
      "source": [
        "# 경사하강을 이용한 행렬 분해"
      ],
      "metadata": {
        "id": "22pMbB5r0e80"
      }
    },
    {
      "cell_type": "code",
      "execution_count": 1,
      "metadata": {
        "id": "8shx5hwm-XyR"
      },
      "outputs": [],
      "source": [
        "import numpy as np\n",
        "\n",
        "# 원본 행렬 R 생성, 분해 행렬 P,Q 초기화하고 잠재요인 차원 K=3으로 설정\n",
        "R = np.array([[4, np.NaN, np.NaN, 2, np.NaN],\n",
        "             [np.NaN, 5, np.NaN, 3, 1],\n",
        "             [np.NaN, np.NaN, 3, 4, 4],\n",
        "             [5, 2, 1, 2, np.NaN]])\n",
        "num_users, num_items = R.shape\n",
        "K=3\n",
        "\n",
        "# P, Q 행렬의 크기를 지정하고 정규분포를 가진 random한 값으로 입력\n",
        "np.random.seed(1)\n",
        "P = np.random.normal(scale=1./K, size=(num_users, K))   # scale: 표준편차, size: 샘플의 사이즈\n",
        "Q = np.random.normal(scale=1./K, size=(num_items, K))"
      ]
    },
    {
      "cell_type": "code",
      "source": [
        "from sklearn.metrics import mean_squared_error\n",
        "\n",
        "def get_rmse(R, P, Q, non_zeros):\n",
        "    error = 0\n",
        "    # 두 개의 분해된 행렬 P, Q.T의 내적으로 예측 R 행렬 생성\n",
        "    full_pred_matrix = np.dot(P, Q.T)\n",
        "\n",
        "    # 실제 R 행렬에서 Null이 아닌 값의 위치 인덱스 추출하여 실제 R 행렬과 예측 행렬의 RMSE 추출\n",
        "    x_non_zero_ind = [non_zero[0] for non_zero in non_zeros]\n",
        "    y_non_zero_ind = [non_zero[1] for non_zero in non_zeros]\n",
        "    R_non_zeros = R[x_non_zero_ind, y_non_zero_ind]\n",
        "    full_pred_matrix_non_zeros = full_pred_matrix[x_non_zero_ind, y_non_zero_ind]\n",
        "\n",
        "    mse = mean_squared_error(R_non_zeros, full_pred_matrix_non_zeros)\n",
        "    rmse = np.sqrt(mse)\n",
        "\n",
        "    return rmse"
      ],
      "metadata": {
        "id": "j_rA89d84d_U"
      },
      "execution_count": 3,
      "outputs": []
    },
    {
      "cell_type": "code",
      "source": [
        "# R > 0인 행 위치, 열 위치, 값을 non_zeros 리스트에 저장\n",
        "non_zeros = [(i, j, R[i, j]) for i in range(num_users) for j in range(num_items)\n",
        "       if R[i, j] > 0]\n",
        "\n",
        "steps = 1000\n",
        "learning_rate = 0.01\n",
        "r_lambda = 0.01\n",
        "\n",
        "# SGD 기법으로 P, Q 행렬을 계속 업데이트함\n",
        "for step in range(steps):\n",
        "    for i, j, r in non_zeros:\n",
        "        # 실제 값과 예측 값의 차이인 오류 값 구함\n",
        "        eij = r - np.dot(P[i, :], Q[j, :].T)\n",
        "\n",
        "        # Regularization을 반영한 SGD 업데이트 공식 적용\n",
        "        P[i, :] = P[i, :] + learning_rate*(eij * Q[j, :] - r_lambda*P[i, :])\n",
        "        Q[j, :] = Q[j, :] + learning_rate*(eij * P[i, :] - r_lambda*Q[j, :])\n",
        "\n",
        "    rmse = get_rmse(R, P, Q, non_zeros)\n",
        "    if (step % 50) == 0:\n",
        "        print(\"### iteration step : \", step, \" rmse : \", rmse)"
      ],
      "metadata": {
        "colab": {
          "base_uri": "https://localhost:8080/"
        },
        "id": "8FkV6v4j4lNP",
        "outputId": "4b38ef3b-0e9f-4eaa-842c-3df2c211329a"
      },
      "execution_count": 6,
      "outputs": [
        {
          "output_type": "stream",
          "name": "stdout",
          "text": [
            "### iteration step :  0  rmse :  3.18918148042182\n",
            "### iteration step :  50  rmse :  0.45402815018032405\n",
            "### iteration step :  100  rmse :  0.15115898740988784\n",
            "### iteration step :  150  rmse :  0.07269965774474765\n",
            "### iteration step :  200  rmse :  0.04246278530171519\n",
            "### iteration step :  250  rmse :  0.028877999722529208\n",
            "### iteration step :  300  rmse :  0.022445550468806877\n",
            "### iteration step :  350  rmse :  0.019411195442598027\n",
            "### iteration step :  400  rmse :  0.017983693814787885\n",
            "### iteration step :  450  rmse :  0.017300739181607964\n",
            "### iteration step :  500  rmse :  0.016964143058819988\n",
            "### iteration step :  550  rmse :  0.016791808565876743\n",
            "### iteration step :  600  rmse :  0.01669850293306415\n",
            "### iteration step :  650  rmse :  0.01664293860122892\n",
            "### iteration step :  700  rmse :  0.01660455314034314\n",
            "### iteration step :  750  rmse :  0.016572993477699298\n",
            "### iteration step :  800  rmse :  0.01654311678640244\n",
            "### iteration step :  850  rmse :  0.016512497103841783\n",
            "### iteration step :  900  rmse :  0.016480132798389616\n",
            "### iteration step :  950  rmse :  0.01644575865591221\n"
          ]
        }
      ]
    },
    {
      "cell_type": "code",
      "source": [
        "pred_matrix = np.dot(P, Q.T)\n",
        "print('예측 행렬:\\n', np.round(pred_matrix, 3))"
      ],
      "metadata": {
        "colab": {
          "base_uri": "https://localhost:8080/"
        },
        "id": "sgx3AOVj79GK",
        "outputId": "9c93be36-9628-4ca8-9b4d-ece065981c47"
      },
      "execution_count": 7,
      "outputs": [
        {
          "output_type": "stream",
          "name": "stdout",
          "text": [
            "예측 행렬:\n",
            " [[3.991 0.897 1.306 2.002 1.663]\n",
            " [6.695 4.978 0.978 2.981 1.003]\n",
            " [6.676 0.392 2.987 3.977 3.986]\n",
            " [4.968 2.005 1.006 2.017 1.141]]\n"
          ]
        }
      ]
    },
    {
      "cell_type": "code",
      "source": [
        ""
      ],
      "metadata": {
        "id": "30rclWWd8awQ"
      },
      "execution_count": null,
      "outputs": []
    }
  ]
}